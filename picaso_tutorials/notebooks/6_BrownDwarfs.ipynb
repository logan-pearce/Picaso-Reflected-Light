{
 "cells": [
  {
   "cell_type": "markdown",
   "metadata": {},
   "source": [
    "# Brown Dwarf Models\n",
    "\n",
    "Modeling brown dwarfs is very similar to modeling thermal emission for exoplanets. The only difference is there is no stellar input!\n",
    "\n",
    "In this tutorial you will learn:\n",
    "\n",
    "1. How to turn that feature off \n",
    "2. Query a profile from the [Sonora Grid](https://zenodo.org/record/1309035#.Xo5GbZNKjGJ). Note, this is note necessary -- just convenient! \n",
    "3. Create a Brown Dwarf Spectrum "
   ]
  },
  {
   "cell_type": "code",
   "execution_count": 1,
   "metadata": {},
   "outputs": [
    {
     "data": {
      "text/html": [
       "<div class=\"bk-root\">\n",
       "        <a href=\"https://bokeh.org\" target=\"_blank\" class=\"bk-logo bk-logo-small bk-logo-notebook\"></a>\n",
       "        <span id=\"1002\">Loading BokehJS ...</span>\n",
       "    </div>\n"
      ]
     },
     "metadata": {},
     "output_type": "display_data"
    },
    {
     "data": {
      "application/javascript": [
       "(function(root) {\n",
       "  function now() {\n",
       "    return new Date();\n",
       "  }\n",
       "\n",
       "  const force = true;\n",
       "\n",
       "  if (typeof root._bokeh_onload_callbacks === \"undefined\" || force === true) {\n",
       "    root._bokeh_onload_callbacks = [];\n",
       "    root._bokeh_is_loading = undefined;\n",
       "  }\n",
       "\n",
       "const JS_MIME_TYPE = 'application/javascript';\n",
       "  const HTML_MIME_TYPE = 'text/html';\n",
       "  const EXEC_MIME_TYPE = 'application/vnd.bokehjs_exec.v0+json';\n",
       "  const CLASS_NAME = 'output_bokeh rendered_html';\n",
       "\n",
       "  /**\n",
       "   * Render data to the DOM node\n",
       "   */\n",
       "  function render(props, node) {\n",
       "    const script = document.createElement(\"script\");\n",
       "    node.appendChild(script);\n",
       "  }\n",
       "\n",
       "  /**\n",
       "   * Handle when an output is cleared or removed\n",
       "   */\n",
       "  function handleClearOutput(event, handle) {\n",
       "    const cell = handle.cell;\n",
       "\n",
       "    const id = cell.output_area._bokeh_element_id;\n",
       "    const server_id = cell.output_area._bokeh_server_id;\n",
       "    // Clean up Bokeh references\n",
       "    if (id != null && id in Bokeh.index) {\n",
       "      Bokeh.index[id].model.document.clear();\n",
       "      delete Bokeh.index[id];\n",
       "    }\n",
       "\n",
       "    if (server_id !== undefined) {\n",
       "      // Clean up Bokeh references\n",
       "      const cmd_clean = \"from bokeh.io.state import curstate; print(curstate().uuid_to_server['\" + server_id + \"'].get_sessions()[0].document.roots[0]._id)\";\n",
       "      cell.notebook.kernel.execute(cmd_clean, {\n",
       "        iopub: {\n",
       "          output: function(msg) {\n",
       "            const id = msg.content.text.trim();\n",
       "            if (id in Bokeh.index) {\n",
       "              Bokeh.index[id].model.document.clear();\n",
       "              delete Bokeh.index[id];\n",
       "            }\n",
       "          }\n",
       "        }\n",
       "      });\n",
       "      // Destroy server and session\n",
       "      const cmd_destroy = \"import bokeh.io.notebook as ion; ion.destroy_server('\" + server_id + \"')\";\n",
       "      cell.notebook.kernel.execute(cmd_destroy);\n",
       "    }\n",
       "  }\n",
       "\n",
       "  /**\n",
       "   * Handle when a new output is added\n",
       "   */\n",
       "  function handleAddOutput(event, handle) {\n",
       "    const output_area = handle.output_area;\n",
       "    const output = handle.output;\n",
       "\n",
       "    // limit handleAddOutput to display_data with EXEC_MIME_TYPE content only\n",
       "    if ((output.output_type != \"display_data\") || (!Object.prototype.hasOwnProperty.call(output.data, EXEC_MIME_TYPE))) {\n",
       "      return\n",
       "    }\n",
       "\n",
       "    const toinsert = output_area.element.find(\".\" + CLASS_NAME.split(' ')[0]);\n",
       "\n",
       "    if (output.metadata[EXEC_MIME_TYPE][\"id\"] !== undefined) {\n",
       "      toinsert[toinsert.length - 1].firstChild.textContent = output.data[JS_MIME_TYPE];\n",
       "      // store reference to embed id on output_area\n",
       "      output_area._bokeh_element_id = output.metadata[EXEC_MIME_TYPE][\"id\"];\n",
       "    }\n",
       "    if (output.metadata[EXEC_MIME_TYPE][\"server_id\"] !== undefined) {\n",
       "      const bk_div = document.createElement(\"div\");\n",
       "      bk_div.innerHTML = output.data[HTML_MIME_TYPE];\n",
       "      const script_attrs = bk_div.children[0].attributes;\n",
       "      for (let i = 0; i < script_attrs.length; i++) {\n",
       "        toinsert[toinsert.length - 1].firstChild.setAttribute(script_attrs[i].name, script_attrs[i].value);\n",
       "        toinsert[toinsert.length - 1].firstChild.textContent = bk_div.children[0].textContent\n",
       "      }\n",
       "      // store reference to server id on output_area\n",
       "      output_area._bokeh_server_id = output.metadata[EXEC_MIME_TYPE][\"server_id\"];\n",
       "    }\n",
       "  }\n",
       "\n",
       "  function register_renderer(events, OutputArea) {\n",
       "\n",
       "    function append_mime(data, metadata, element) {\n",
       "      // create a DOM node to render to\n",
       "      const toinsert = this.create_output_subarea(\n",
       "        metadata,\n",
       "        CLASS_NAME,\n",
       "        EXEC_MIME_TYPE\n",
       "      );\n",
       "      this.keyboard_manager.register_events(toinsert);\n",
       "      // Render to node\n",
       "      const props = {data: data, metadata: metadata[EXEC_MIME_TYPE]};\n",
       "      render(props, toinsert[toinsert.length - 1]);\n",
       "      element.append(toinsert);\n",
       "      return toinsert\n",
       "    }\n",
       "\n",
       "    /* Handle when an output is cleared or removed */\n",
       "    events.on('clear_output.CodeCell', handleClearOutput);\n",
       "    events.on('delete.Cell', handleClearOutput);\n",
       "\n",
       "    /* Handle when a new output is added */\n",
       "    events.on('output_added.OutputArea', handleAddOutput);\n",
       "\n",
       "    /**\n",
       "     * Register the mime type and append_mime function with output_area\n",
       "     */\n",
       "    OutputArea.prototype.register_mime_type(EXEC_MIME_TYPE, append_mime, {\n",
       "      /* Is output safe? */\n",
       "      safe: true,\n",
       "      /* Index of renderer in `output_area.display_order` */\n",
       "      index: 0\n",
       "    });\n",
       "  }\n",
       "\n",
       "  // register the mime type if in Jupyter Notebook environment and previously unregistered\n",
       "  if (root.Jupyter !== undefined) {\n",
       "    const events = require('base/js/events');\n",
       "    const OutputArea = require('notebook/js/outputarea').OutputArea;\n",
       "\n",
       "    if (OutputArea.prototype.mime_types().indexOf(EXEC_MIME_TYPE) == -1) {\n",
       "      register_renderer(events, OutputArea);\n",
       "    }\n",
       "  }\n",
       "  if (typeof (root._bokeh_timeout) === \"undefined\" || force === true) {\n",
       "    root._bokeh_timeout = Date.now() + 5000;\n",
       "    root._bokeh_failed_load = false;\n",
       "  }\n",
       "\n",
       "  const NB_LOAD_WARNING = {'data': {'text/html':\n",
       "     \"<div style='background-color: #fdd'>\\n\"+\n",
       "     \"<p>\\n\"+\n",
       "     \"BokehJS does not appear to have successfully loaded. If loading BokehJS from CDN, this \\n\"+\n",
       "     \"may be due to a slow or bad network connection. Possible fixes:\\n\"+\n",
       "     \"</p>\\n\"+\n",
       "     \"<ul>\\n\"+\n",
       "     \"<li>re-rerun `output_notebook()` to attempt to load from CDN again, or</li>\\n\"+\n",
       "     \"<li>use INLINE resources instead, as so:</li>\\n\"+\n",
       "     \"</ul>\\n\"+\n",
       "     \"<code>\\n\"+\n",
       "     \"from bokeh.resources import INLINE\\n\"+\n",
       "     \"output_notebook(resources=INLINE)\\n\"+\n",
       "     \"</code>\\n\"+\n",
       "     \"</div>\"}};\n",
       "\n",
       "  function display_loaded() {\n",
       "    const el = document.getElementById(\"1002\");\n",
       "    if (el != null) {\n",
       "      el.textContent = \"BokehJS is loading...\";\n",
       "    }\n",
       "    if (root.Bokeh !== undefined) {\n",
       "      if (el != null) {\n",
       "        el.textContent = \"BokehJS \" + root.Bokeh.version + \" successfully loaded.\";\n",
       "      }\n",
       "    } else if (Date.now() < root._bokeh_timeout) {\n",
       "      setTimeout(display_loaded, 100)\n",
       "    }\n",
       "  }\n",
       "\n",
       "  function run_callbacks() {\n",
       "    try {\n",
       "      root._bokeh_onload_callbacks.forEach(function(callback) {\n",
       "        if (callback != null)\n",
       "          callback();\n",
       "      });\n",
       "    } finally {\n",
       "      delete root._bokeh_onload_callbacks\n",
       "    }\n",
       "    console.debug(\"Bokeh: all callbacks have finished\");\n",
       "  }\n",
       "\n",
       "  function load_libs(css_urls, js_urls, callback) {\n",
       "    if (css_urls == null) css_urls = [];\n",
       "    if (js_urls == null) js_urls = [];\n",
       "\n",
       "    root._bokeh_onload_callbacks.push(callback);\n",
       "    if (root._bokeh_is_loading > 0) {\n",
       "      console.debug(\"Bokeh: BokehJS is being loaded, scheduling callback at\", now());\n",
       "      return null;\n",
       "    }\n",
       "    if (js_urls == null || js_urls.length === 0) {\n",
       "      run_callbacks();\n",
       "      return null;\n",
       "    }\n",
       "    console.debug(\"Bokeh: BokehJS not loaded, scheduling load and callback at\", now());\n",
       "    root._bokeh_is_loading = css_urls.length + js_urls.length;\n",
       "\n",
       "    function on_load() {\n",
       "      root._bokeh_is_loading--;\n",
       "      if (root._bokeh_is_loading === 0) {\n",
       "        console.debug(\"Bokeh: all BokehJS libraries/stylesheets loaded\");\n",
       "        run_callbacks()\n",
       "      }\n",
       "    }\n",
       "\n",
       "    function on_error(url) {\n",
       "      console.error(\"failed to load \" + url);\n",
       "    }\n",
       "\n",
       "    for (let i = 0; i < css_urls.length; i++) {\n",
       "      const url = css_urls[i];\n",
       "      const element = document.createElement(\"link\");\n",
       "      element.onload = on_load;\n",
       "      element.onerror = on_error.bind(null, url);\n",
       "      element.rel = \"stylesheet\";\n",
       "      element.type = \"text/css\";\n",
       "      element.href = url;\n",
       "      console.debug(\"Bokeh: injecting link tag for BokehJS stylesheet: \", url);\n",
       "      document.body.appendChild(element);\n",
       "    }\n",
       "\n",
       "    for (let i = 0; i < js_urls.length; i++) {\n",
       "      const url = js_urls[i];\n",
       "      const element = document.createElement('script');\n",
       "      element.onload = on_load;\n",
       "      element.onerror = on_error.bind(null, url);\n",
       "      element.async = false;\n",
       "      element.src = url;\n",
       "      console.debug(\"Bokeh: injecting script tag for BokehJS library: \", url);\n",
       "      document.head.appendChild(element);\n",
       "    }\n",
       "  };\n",
       "\n",
       "  function inject_raw_css(css) {\n",
       "    const element = document.createElement(\"style\");\n",
       "    element.appendChild(document.createTextNode(css));\n",
       "    document.body.appendChild(element);\n",
       "  }\n",
       "\n",
       "  const js_urls = [\"https://cdn.bokeh.org/bokeh/release/bokeh-2.4.3.min.js\", \"https://cdn.bokeh.org/bokeh/release/bokeh-gl-2.4.3.min.js\", \"https://cdn.bokeh.org/bokeh/release/bokeh-widgets-2.4.3.min.js\", \"https://cdn.bokeh.org/bokeh/release/bokeh-tables-2.4.3.min.js\", \"https://cdn.bokeh.org/bokeh/release/bokeh-mathjax-2.4.3.min.js\"];\n",
       "  const css_urls = [];\n",
       "\n",
       "  const inline_js = [    function(Bokeh) {\n",
       "      Bokeh.set_log_level(\"info\");\n",
       "    },\n",
       "function(Bokeh) {\n",
       "    }\n",
       "  ];\n",
       "\n",
       "  function run_inline_js() {\n",
       "    if (root.Bokeh !== undefined || force === true) {\n",
       "          for (let i = 0; i < inline_js.length; i++) {\n",
       "      inline_js[i].call(root, root.Bokeh);\n",
       "    }\n",
       "if (force === true) {\n",
       "        display_loaded();\n",
       "      }} else if (Date.now() < root._bokeh_timeout) {\n",
       "      setTimeout(run_inline_js, 100);\n",
       "    } else if (!root._bokeh_failed_load) {\n",
       "      console.log(\"Bokeh: BokehJS failed to load within specified timeout.\");\n",
       "      root._bokeh_failed_load = true;\n",
       "    } else if (force !== true) {\n",
       "      const cell = $(document.getElementById(\"1002\")).parents('.cell').data().cell;\n",
       "      cell.output_area.append_execute_result(NB_LOAD_WARNING)\n",
       "    }\n",
       "  }\n",
       "\n",
       "  if (root._bokeh_is_loading === 0) {\n",
       "    console.debug(\"Bokeh: BokehJS loaded, going straight to plotting\");\n",
       "    run_inline_js();\n",
       "  } else {\n",
       "    load_libs(css_urls, js_urls, function() {\n",
       "      console.debug(\"Bokeh: BokehJS plotting callback run at\", now());\n",
       "      run_inline_js();\n",
       "    });\n",
       "  }\n",
       "}(window));"
      ],
      "application/vnd.bokehjs_load.v0+json": "(function(root) {\n  function now() {\n    return new Date();\n  }\n\n  const force = true;\n\n  if (typeof root._bokeh_onload_callbacks === \"undefined\" || force === true) {\n    root._bokeh_onload_callbacks = [];\n    root._bokeh_is_loading = undefined;\n  }\n\n\n  if (typeof (root._bokeh_timeout) === \"undefined\" || force === true) {\n    root._bokeh_timeout = Date.now() + 5000;\n    root._bokeh_failed_load = false;\n  }\n\n  const NB_LOAD_WARNING = {'data': {'text/html':\n     \"<div style='background-color: #fdd'>\\n\"+\n     \"<p>\\n\"+\n     \"BokehJS does not appear to have successfully loaded. If loading BokehJS from CDN, this \\n\"+\n     \"may be due to a slow or bad network connection. Possible fixes:\\n\"+\n     \"</p>\\n\"+\n     \"<ul>\\n\"+\n     \"<li>re-rerun `output_notebook()` to attempt to load from CDN again, or</li>\\n\"+\n     \"<li>use INLINE resources instead, as so:</li>\\n\"+\n     \"</ul>\\n\"+\n     \"<code>\\n\"+\n     \"from bokeh.resources import INLINE\\n\"+\n     \"output_notebook(resources=INLINE)\\n\"+\n     \"</code>\\n\"+\n     \"</div>\"}};\n\n  function display_loaded() {\n    const el = document.getElementById(\"1002\");\n    if (el != null) {\n      el.textContent = \"BokehJS is loading...\";\n    }\n    if (root.Bokeh !== undefined) {\n      if (el != null) {\n        el.textContent = \"BokehJS \" + root.Bokeh.version + \" successfully loaded.\";\n      }\n    } else if (Date.now() < root._bokeh_timeout) {\n      setTimeout(display_loaded, 100)\n    }\n  }\n\n  function run_callbacks() {\n    try {\n      root._bokeh_onload_callbacks.forEach(function(callback) {\n        if (callback != null)\n          callback();\n      });\n    } finally {\n      delete root._bokeh_onload_callbacks\n    }\n    console.debug(\"Bokeh: all callbacks have finished\");\n  }\n\n  function load_libs(css_urls, js_urls, callback) {\n    if (css_urls == null) css_urls = [];\n    if (js_urls == null) js_urls = [];\n\n    root._bokeh_onload_callbacks.push(callback);\n    if (root._bokeh_is_loading > 0) {\n      console.debug(\"Bokeh: BokehJS is being loaded, scheduling callback at\", now());\n      return null;\n    }\n    if (js_urls == null || js_urls.length === 0) {\n      run_callbacks();\n      return null;\n    }\n    console.debug(\"Bokeh: BokehJS not loaded, scheduling load and callback at\", now());\n    root._bokeh_is_loading = css_urls.length + js_urls.length;\n\n    function on_load() {\n      root._bokeh_is_loading--;\n      if (root._bokeh_is_loading === 0) {\n        console.debug(\"Bokeh: all BokehJS libraries/stylesheets loaded\");\n        run_callbacks()\n      }\n    }\n\n    function on_error(url) {\n      console.error(\"failed to load \" + url);\n    }\n\n    for (let i = 0; i < css_urls.length; i++) {\n      const url = css_urls[i];\n      const element = document.createElement(\"link\");\n      element.onload = on_load;\n      element.onerror = on_error.bind(null, url);\n      element.rel = \"stylesheet\";\n      element.type = \"text/css\";\n      element.href = url;\n      console.debug(\"Bokeh: injecting link tag for BokehJS stylesheet: \", url);\n      document.body.appendChild(element);\n    }\n\n    for (let i = 0; i < js_urls.length; i++) {\n      const url = js_urls[i];\n      const element = document.createElement('script');\n      element.onload = on_load;\n      element.onerror = on_error.bind(null, url);\n      element.async = false;\n      element.src = url;\n      console.debug(\"Bokeh: injecting script tag for BokehJS library: \", url);\n      document.head.appendChild(element);\n    }\n  };\n\n  function inject_raw_css(css) {\n    const element = document.createElement(\"style\");\n    element.appendChild(document.createTextNode(css));\n    document.body.appendChild(element);\n  }\n\n  const js_urls = [\"https://cdn.bokeh.org/bokeh/release/bokeh-2.4.3.min.js\", \"https://cdn.bokeh.org/bokeh/release/bokeh-gl-2.4.3.min.js\", \"https://cdn.bokeh.org/bokeh/release/bokeh-widgets-2.4.3.min.js\", \"https://cdn.bokeh.org/bokeh/release/bokeh-tables-2.4.3.min.js\", \"https://cdn.bokeh.org/bokeh/release/bokeh-mathjax-2.4.3.min.js\"];\n  const css_urls = [];\n\n  const inline_js = [    function(Bokeh) {\n      Bokeh.set_log_level(\"info\");\n    },\nfunction(Bokeh) {\n    }\n  ];\n\n  function run_inline_js() {\n    if (root.Bokeh !== undefined || force === true) {\n          for (let i = 0; i < inline_js.length; i++) {\n      inline_js[i].call(root, root.Bokeh);\n    }\nif (force === true) {\n        display_loaded();\n      }} else if (Date.now() < root._bokeh_timeout) {\n      setTimeout(run_inline_js, 100);\n    } else if (!root._bokeh_failed_load) {\n      console.log(\"Bokeh: BokehJS failed to load within specified timeout.\");\n      root._bokeh_failed_load = true;\n    } else if (force !== true) {\n      const cell = $(document.getElementById(\"1002\")).parents('.cell').data().cell;\n      cell.output_area.append_execute_result(NB_LOAD_WARNING)\n    }\n  }\n\n  if (root._bokeh_is_loading === 0) {\n    console.debug(\"Bokeh: BokehJS loaded, going straight to plotting\");\n    run_inline_js();\n  } else {\n    load_libs(css_urls, js_urls, function() {\n      console.debug(\"Bokeh: BokehJS plotting callback run at\", now());\n      run_inline_js();\n    });\n  }\n}(window));"
     },
     "metadata": {},
     "output_type": "display_data"
    }
   ],
   "source": [
    "import warnings\n",
    "warnings.filterwarnings('ignore')\n",
    "import numpy as np\n",
    "import pandas as pd\n",
    "import astropy.units as u\n",
    "\n",
    "#picaso\n",
    "from picaso import justdoit as jdi \n",
    "from picaso import justplotit as jpi\n",
    "#plotting\n",
    "from bokeh.io import output_notebook\n",
    "\n",
    "output_notebook()\n",
    "from bokeh.plotting import show,figure"
   ]
  },
  {
   "cell_type": "markdown",
   "metadata": {},
   "source": [
    "Start with the same inputs as before"
   ]
  },
  {
   "cell_type": "code",
   "execution_count": 2,
   "metadata": {},
   "outputs": [],
   "source": [
    "wave_range = [3,5]\n",
    "\n",
    "opa = jdi.opannection(wave_range=wave_range)\n",
    "\n",
    "bd = jdi.inputs(calculation='browndwarf')\n"
   ]
  },
  {
   "cell_type": "code",
   "execution_count": 3,
   "metadata": {},
   "outputs": [],
   "source": [
    "# Note here that we do not need to provide case.star, since there is none! \n",
    "bd.gravity(gravity=100 , gravity_unit=u.Unit('m/s**2'))\n",
    "\n",
    "#this is the integration setup that was used to compute the Sonora grid \n",
    "#take a look at Spherical Integration Tutorial to get a look at what these parameters do\n",
    "bd.phase_angle(0)\n"
   ]
  },
  {
   "cell_type": "markdown",
   "metadata": {},
   "source": [
    "## Download and Query from Sonora Profile Grid \n",
    "\n",
    "Download the profile files that are located in the [profile.tar file](https://zenodo.org/record/1309035#.Xo5GbZNKjGJ)\n",
    "\n",
    "Once you untar the file you can set the file path below. You do not need to unzip each profile. `picaso` will do that upon read in. `picaso` will find the nearest neighbor and attach it to your class. "
   ]
  },
  {
   "cell_type": "code",
   "execution_count": 4,
   "metadata": {},
   "outputs": [],
   "source": [
    "#point to where you untared your sonora profiles\n",
    "sonora_profile_db = '/Volumes/Oy/picaso/reference/sonora_profile'\n",
    "Teff = 900 \n",
    "#this function will grab the gravity you have input above and find the nearest neighbor with the \n",
    "#note sonora chemistry grid is on the same opacity grid as our opacities (1060). \n",
    "bd.sonora(sonora_profile_db, Teff)"
   ]
  },
  {
   "cell_type": "markdown",
   "metadata": {},
   "source": [
    "Note if you have added anything to your atmosphere profile (`bd.inputs['atmosphere']['profile']`), `sonora` function will overwrite it! Therefore, **make sure that you add new column fields after running sonora.** "
   ]
  },
  {
   "cell_type": "markdown",
   "metadata": {},
   "source": [
    "## Run Spectrum"
   ]
  },
  {
   "cell_type": "code",
   "execution_count": 5,
   "metadata": {},
   "outputs": [],
   "source": [
    "df = bd.spectrum(opa, full_output=True)"
   ]
  },
  {
   "cell_type": "markdown",
   "metadata": {},
   "source": [
    "## Convert to $F_\\nu$ Units and Regrid\n",
    "\n",
    "`PICASO` outputs the raw flux as: \n",
    "\n",
    "$$ F_\\lambda ( \\frac{erc}{cm^2 * sec * cm}) $$\n",
    "\n",
    "Typical fluxes shown in several Brown Dwarf papers are: \n",
    "\n",
    "$$ F_\\nu ( \\frac{erc}{cm^2 * sec * Hz}) $$\n",
    "\n",
    "Below is a little example of how to convert units. \n",
    "\n",
    "**NOTE**: Some people like to plot out `Eddington Flux`, $H_\\nu$. This gets confusing as the units appear to be erg/cm2/s/Hz but you will notice a factor of four difference: \n",
    "\n",
    "$$H_\\nu = \\frac{F_\\nu}{4}$$"
   ]
  },
  {
   "cell_type": "code",
   "execution_count": 6,
   "metadata": {},
   "outputs": [],
   "source": [
    "x,y = df['wavenumber'], df['thermal'] #units of erg/cm2/s/cm\n",
    "\n",
    "xmicron = 1e4/x\n",
    "\n",
    "flamy = y*1e-8 #per anstrom instead of per cm\n",
    "sp = jdi.psyn.ArraySpectrum(xmicron, flamy, \n",
    "                            waveunits='um', \n",
    "                            fluxunits='FLAM')   \n",
    "sp.convert(\"um\")\n",
    "sp.convert('Fnu') #erg/cm2/s/Hz\n",
    "\n",
    "x = sp.wave #micron\n",
    "y= sp.flux #erg/cm2/s/Hz\n",
    "df['fluxnu'] = y \n",
    "x,y = jdi.mean_regrid(1e4/x, y, R=300) #wavenumber, erg/cm2/s/Hz\n",
    "df['regridy'] =  y\n",
    "df['regridx'] = x"
   ]
  },
  {
   "cell_type": "markdown",
   "metadata": {},
   "source": [
    "## Compare with Sonora Grid\n",
    "\n",
    "The corresponding spectra are also available at the same link above. `PICASO` doesn't provide query functions\n",
    "for this. So if you want to compare, you will have to read in the files as is done below"
   ]
  },
  {
   "cell_type": "code",
   "execution_count": 7,
   "metadata": {},
   "outputs": [],
   "source": [
    "son = pd.read_csv('sp_t900g100nc_m0.0',delim_whitespace=True, \n",
    "                 skiprows=3,header=None,names=['w','f'])\n",
    "sonx, sony =  jdi.mean_regrid(1e4/son['w'], son['f'], newx=x)"
   ]
  },
  {
   "cell_type": "code",
   "execution_count": 8,
   "metadata": {
    "scrolled": false
   },
   "outputs": [
    {
     "data": {
      "text/html": [
       "\n",
       "  <div class=\"bk-root\" id=\"e55391ec-6bd6-493c-9117-565e5aae929e\" data-root-id=\"1003\"></div>\n"
      ]
     },
     "metadata": {},
     "output_type": "display_data"
    },
    {
     "data": {
      "application/javascript": [
       "(function(root) {\n",
       "  function embed_document(root) {\n",
       "  const docs_json = {\"68449679-654f-438d-8295-218fa9ebda56\":{\"defs\":[],\"roots\":{\"references\":[{\"attributes\":{\"below\":[{\"id\":\"1012\"}],\"center\":[{\"id\":\"1015\"},{\"id\":\"1019\"}],\"height\":345,\"left\":[{\"id\":\"1016\"},{\"id\":\"1046\"}],\"renderers\":[{\"id\":\"1038\"},{\"id\":\"1044\"}],\"title\":{\"id\":\"1049\"},\"toolbar\":{\"id\":\"1027\"},\"width\":800,\"x_range\":{\"id\":\"1004\"},\"x_scale\":{\"id\":\"1008\"},\"y_range\":{\"id\":\"1006\"},\"y_scale\":{\"id\":\"1010\"}},\"id\":\"1003\",\"subtype\":\"Figure\",\"type\":\"Plot\"},{\"attributes\":{\"line_alpha\":0.2,\"line_color\":\"#E69F00\",\"line_width\":3,\"x\":{\"field\":\"x\"},\"y\":{\"field\":\"y\"}},\"id\":\"1043\",\"type\":\"Line\"},{\"attributes\":{},\"id\":\"1057\",\"type\":\"UnionRenderers\"},{\"attributes\":{},\"id\":\"1008\",\"type\":\"LinearScale\"},{\"attributes\":{\"coordinates\":null,\"group\":null},\"id\":\"1049\",\"type\":\"Title\"},{\"attributes\":{\"data\":{\"x\":{\"__ndarray__\":\"3aWo24kEFECvrtIxfPMTQDyZJw994hNA0/xGZ4zRE0D7+9otqsATQHc7mFbWrxNATNk91RCfE0DcY5WdWY4TQADRcqOwfRNAJnW02hVtE0CD+kI3iVwTQD5YEa0KTBNArckcMJo7E0CZxWy0NysTQH/1Ei7jGhNA6CwrkZwKE0C6YNvRY/oSQJieU+Q46hJATATOvBvaEkAwt45PDMoSQKLb45AKuhJAiIwldRaqEkDF0rXwL5oSQNOcAPhWihJASrZ7f4t6EkB6v6Z7zWoSQBIlC+EcWxJAvxc8pHlLEkDbg9a54zsSQCwJgRZbLBJAkPLrrt8cEkDSLdF3cQ0SQGRD9GUQ/hFAPk4ibrzuEUCu8zGFdd8RQDtbA6A70BFAiCaAsw7BEUBIaZu07rERQCihUZjbohFA1K2oU9WTEUDwyK/b24QRQCd+fyXvdRFAN6M5Jg9nEUAJUAnTO1gRQMzWIiF1SRFAGbzDBbs6EUAerzJ2DSwRQNCBv2dsHRFAHSHDz9cOEUAyjZ+jTwARQLvRv9jT8RBAL/6XZGTjEEAjHqU8AdUQQKAxbVaqxhBAiiV/p1+4EED3y3IlIaoQQKfU6MXumxBAd8WKfsiNEEDQ8gpFrn8QQC54JA+gcRBApjCb0p1jEEBsrzuFp1UQQGw42xy9RxBA37hXj945EEDtv5fSCywQQE53itxEHhBA95sno4kQEEDPdm8c2gIQQNCq1Xxs6g9AZQVW/jvPD0Cif5OpIrQPQK150mogmQ9AOSNoLjV+D0A5bbrgYGMPQI/7P26jSA9A1BaAw/wtD0A1nhLNbBMPQET5n3fz+A5A5Qnhr5DeDkBRHp9iRMQOQADjs3wOqg5A1FQJ6+6PDkAcs5ma5XUOQMRxb3jyWw5AiCulcRVCDkAslGVzTigOQMlq62qdDg5AI2yBRQL1DUADRYLwfNsNQK2EWFkNwg1AT49+bbOoDUCJkH4ab48NQPtt8k1Adg1A27mD9SZdDUCmpev+IkQNQL/08lc0Kw1AQO9x7loSDUCvVFCwlvkMQN9OhYvn4AxAwmQXbk3IDEBebRxGyK8MQLmCuQFYlwxA3/Qij/x+DEDnPJzctWYMQAbwd9iDTgxAvbIXcWY2DED5K+yUXR4MQEf4dDJpBgxAJ51AOInuC0BCfOyUvdYLQNHGJDcGvwtA9XCkDWOnC0AxJTUH1I8LQNA3rxJZeAtAc5r5HvJgC0Cbzwkbn0kLQEDe4/VfMgtAckWanjQbC0AG8E0EHQQLQE4oLhYZ7QpA2Yt4wyjWCkA+/3j7S78KQPahia2CqApAOMISycyRCkDo0Io9KnsKQIlVdvqaZApAPuJn7x5OCkDUBwAMtjcKQNNJ7T9gIQpAoBLseh0LCkCmp8as7fQJQIQdVcXQ3glARUx9tMbICUC2wzJqz7IJQKe/dtbqnAlATBxY6RiHCUCiSvOSWXEJQNhEcsOsWwlAzoIMaxJGCUCQ7gZ6ijAJQObYs+AUGwlA5u1yj7EFCUCYKbF2YPAIQJnM6IYh2whA0FChsPTFCEAtXm/k2bAIQGi/9BLRmwhA1lbgLNqGCEBAE+4i9XEIQMHk5uUhXQhAu7GgZmBICEDES/6VsDMIQKVk72QSHwhAZ4NwxIUKCEA=\",\"dtype\":\"float64\",\"order\":\"little\",\"shape\":[154]},\"y\":{\"__ndarray__\":\"di7AHW7clT44hGfoe/SXPgOzaEHi35U+Vu/qrn2WkT7k2TcBjhWUPnqCF+LFf5o+4AAMlELVlT6N3TvOQfGXPmnnFrOAJZg+FjrAndNRmT6oXhca7BiUPhz0XWbKE5o+cx+A/hKDmD6NzRPaPBGYPsA9Kd+W55U+SkPVYGzSmT5lTg0wWOacPkFAxLakEZg+6A6YeA8elz6vYLO9x96cPg0oxrC2cpo+/98gIjyomz68+xJzWIGYPv/fXasjrJo+Dqa/4jO7lz4KWrf4f/2cPnp5HX71lJ0+iv3NG7Dalz7DQZ6oAt2cPtH7oihOOpw+f8QajLlvlT67B9T3wYKZPsxw9aHzJps+4DwtNuDomT5SeWDvzOuZPpQIPwWO4Js+CDeRmqLelz6qykunQdCYPhMakzfkB54+/3pX71QQlz4pwMBxg+yaPjM97I7UFJ0++q/Hp+bfmD60VVLjDsyaPiEtaoZ2M54+ZkycaXnomD5tgQ7kAP2bPjpz/Zlripo+2qKH0QSQmz7GsSigQMiYPrj398QW85s+VJCo6qC3mT6cNbt8qDicPvfSOk1ES5w+m92Xqj5Xnj7W5ixEriufPq1qjDa7oJw+KdbtSotXnz4vvxssoLicPnGmGBSTJJw+rh7jyl9QnD7ovdss8uSaPknYGJ6kXZs+tjaUTIHbmj5UDPPtAZGYPloqpu7/KZg+IO4IllWUlj4oI22Cu6uWPiEwG47i9JU+SqY9jlRfkj7reswK4XeTPt2xc8zemJE+XSiG4R2GkT7fJkiREvqPPrG86FSWvY0+UzVDJXibjT7GMUFt+niLPmNBBRC5oYs+Sch+nHyriD7cCId8M2qDPi1M/o103o4+5ljbyO6riD5cTi26TFWGPvKoFTSJL4M+TsewxlwlgT60i4mGzLGBPjULaHp1w4M+7nFMxDpxgT7l8p2Xp+F8Plwl8OX07H0+f79mABcefT50X0kJy6J8PvelApzwqXc+BaG2gcOgdz5cjE4AqeF1PkJMyUG473E+/wQDwQclcD5cewW+WoZrPl8DsNzRbWg+/GWCUIYQaT5U/Yfmf61oPuh7rwIr5Gc+oehGxDvyYz6tIdQ0hvtkPq+Zlaz/BmA+NPVT9xlkYT6zuVlAzyRdPsbaAIfvz14+NCUuzYJmWD6kM812POFUPhKj+QOIp1Q+hgjWpZ8+VD4RWnrX9e5SPiGL7zoVw1I+ZaUOZUHYVD5JeFkpo6lVPmo32mnL/VQ+bzx9ZyLjVT5O7Pz/R29WPmDOg1w92lQ+Dj+CftFcTj6oTMYDUK1BPp8FbrqXOSo+T6K/he/OJT5fMkvCG9FIPkbuS9iH9Vo+kW8vq6mtXD6RDY6bUkhYPqquN4dOn1U+Y+FCWDwATD6NLHoN9ctLPhHRCHr6c0w+13V8mdmbTD7sd60tl+5MPvH43D1DXkg+sq6brY9xST4gQCIuDuhNPj/symHFxkw+MVN9g4wwUT7kjJTHpX9WPg7R8GMsUFo+hGouFbelWz5WmcUbtptjPq1uQIlsBGE+GqnIlgfZYz7c60+gFB9oPuXKHr/V3m4+rw0uwGigcD7C96I4yoJxPvNkA0Ar1HM+xHxJJipvdz77NPWSthZ5Pg/6k4/76nU+bTs4dPEacD4=\",\"dtype\":\"float64\",\"order\":\"little\",\"shape\":[154]}},\"selected\":{\"id\":\"1060\"},\"selection_policy\":{\"id\":\"1059\"}},\"id\":\"1040\",\"type\":\"ColumnDataSource\"},{\"attributes\":{\"num_minor_ticks\":10},\"id\":\"1017\",\"type\":\"LogTicker\"},{\"attributes\":{\"axis\":{\"id\":\"1016\"},\"coordinates\":null,\"dimension\":1,\"group\":null,\"ticker\":null},\"id\":\"1019\",\"type\":\"Grid\"},{\"attributes\":{},\"id\":\"1058\",\"type\":\"Selection\"},{\"attributes\":{},\"id\":\"1055\",\"type\":\"BasicTickFormatter\"},{\"attributes\":{\"line_color\":\"#0072B2\",\"line_width\":3,\"x\":{\"field\":\"x\"},\"y\":{\"field\":\"y\"}},\"id\":\"1035\",\"type\":\"Line\"},{\"attributes\":{\"ticker\":null},\"id\":\"1052\",\"type\":\"LogTickFormatter\"},{\"attributes\":{\"line_alpha\":0.1,\"line_color\":\"#E69F00\",\"line_width\":3,\"x\":{\"field\":\"x\"},\"y\":{\"field\":\"y\"}},\"id\":\"1042\",\"type\":\"Line\"},{\"attributes\":{\"coordinates\":null,\"data_source\":{\"id\":\"1040\"},\"glyph\":{\"id\":\"1041\"},\"group\":null,\"hover_glyph\":null,\"muted_glyph\":{\"id\":\"1043\"},\"nonselection_glyph\":{\"id\":\"1042\"},\"view\":{\"id\":\"1045\"}},\"id\":\"1044\",\"type\":\"GlyphRenderer\"},{\"attributes\":{\"axis_label\":\"Spectrum\",\"axis_label_text_font\":\"times\",\"axis_label_text_font_size\":\"14pt\",\"axis_label_text_font_style\":\"bold\",\"coordinates\":null,\"formatter\":{\"id\":\"1052\"},\"group\":null,\"major_label_policy\":{\"id\":\"1053\"},\"major_label_text_font\":\"times\",\"major_label_text_font_size\":\"14pt\",\"ticker\":{\"id\":\"1017\"}},\"id\":\"1016\",\"type\":\"LogAxis\"},{\"attributes\":{\"label\":{\"value\":\"PICASO\"},\"renderers\":[{\"id\":\"1038\"}]},\"id\":\"1047\",\"type\":\"LegendItem\"},{\"attributes\":{\"line_alpha\":0.2,\"line_color\":\"#0072B2\",\"line_width\":3,\"x\":{\"field\":\"x\"},\"y\":{\"field\":\"y\"}},\"id\":\"1037\",\"type\":\"Line\"},{\"attributes\":{\"data\":{\"x\":{\"__ndarray__\":\"3aWo24kEFECvrtIxfPMTQDyZJw994hNA0/xGZ4zRE0D7+9otqsATQHc7mFbWrxNATNk91RCfE0DcY5WdWY4TQADRcqOwfRNAJnW02hVtE0CD+kI3iVwTQD5YEa0KTBNArckcMJo7E0CZxWy0NysTQH/1Ei7jGhNA6CwrkZwKE0C6YNvRY/oSQJieU+Q46hJATATOvBvaEkAwt45PDMoSQKLb45AKuhJAiIwldRaqEkDF0rXwL5oSQNOcAPhWihJASrZ7f4t6EkB6v6Z7zWoSQBIlC+EcWxJAvxc8pHlLEkDbg9a54zsSQCwJgRZbLBJAkPLrrt8cEkDSLdF3cQ0SQGRD9GUQ/hFAPk4ibrzuEUCu8zGFdd8RQDtbA6A70BFAiCaAsw7BEUBIaZu07rERQCihUZjbohFA1K2oU9WTEUDwyK/b24QRQCd+fyXvdRFAN6M5Jg9nEUAJUAnTO1gRQMzWIiF1SRFAGbzDBbs6EUAerzJ2DSwRQNCBv2dsHRFAHSHDz9cOEUAyjZ+jTwARQLvRv9jT8RBAL/6XZGTjEEAjHqU8AdUQQKAxbVaqxhBAiiV/p1+4EED3y3IlIaoQQKfU6MXumxBAd8WKfsiNEEDQ8gpFrn8QQC54JA+gcRBApjCb0p1jEEBsrzuFp1UQQGw42xy9RxBA37hXj945EEDtv5fSCywQQE53itxEHhBA95sno4kQEEDPdm8c2gIQQNCq1Xxs6g9AZQVW/jvPD0Cif5OpIrQPQK150mogmQ9AOSNoLjV+D0A5bbrgYGMPQI/7P26jSA9A1BaAw/wtD0A1nhLNbBMPQET5n3fz+A5A5Qnhr5DeDkBRHp9iRMQOQADjs3wOqg5A1FQJ6+6PDkAcs5ma5XUOQMRxb3jyWw5AiCulcRVCDkAslGVzTigOQMlq62qdDg5AI2yBRQL1DUADRYLwfNsNQK2EWFkNwg1AT49+bbOoDUCJkH4ab48NQPtt8k1Adg1A27mD9SZdDUCmpev+IkQNQL/08lc0Kw1AQO9x7loSDUCvVFCwlvkMQN9OhYvn4AxAwmQXbk3IDEBebRxGyK8MQLmCuQFYlwxA3/Qij/x+DEDnPJzctWYMQAbwd9iDTgxAvbIXcWY2DED5K+yUXR4MQEf4dDJpBgxAJ51AOInuC0BCfOyUvdYLQNHGJDcGvwtA9XCkDWOnC0AxJTUH1I8LQNA3rxJZeAtAc5r5HvJgC0Cbzwkbn0kLQEDe4/VfMgtAckWanjQbC0AG8E0EHQQLQE4oLhYZ7QpA2Yt4wyjWCkA+/3j7S78KQPahia2CqApAOMISycyRCkDo0Io9KnsKQIlVdvqaZApAPuJn7x5OCkDUBwAMtjcKQNNJ7T9gIQpAoBLseh0LCkCmp8as7fQJQIQdVcXQ3glARUx9tMbICUC2wzJqz7IJQKe/dtbqnAlATBxY6RiHCUCiSvOSWXEJQNhEcsOsWwlAzoIMaxJGCUCQ7gZ6ijAJQObYs+AUGwlA5u1yj7EFCUCYKbF2YPAIQJnM6IYh2whA0FChsPTFCEAtXm/k2bAIQGi/9BLRmwhA1lbgLNqGCEBAE+4i9XEIQMHk5uUhXQhAu7GgZmBICEDES/6VsDMIQKVk72QSHwhAZ4NwxIUKCEA=\",\"dtype\":\"float64\",\"order\":\"little\",\"shape\":[154]},\"y\":{\"__ndarray__\":\"RaSOigd5lT5IDYjA1HOXPuSsn8CsCJc+x+KNAr74kT6xrL1SZXiUPpuAqAtR5po+R3MDLqQnlT4wC/nlmrCYPh2As+e3+5g+4XTlzav0mj6hVrs7pAGUPsgEwXWiuZk+DM7DS+otmT5wKk3EhFyZPmiVWK9LiZY+lCXQ4khDmT5m7ou+uhGfPgnzr4eEY5g+aUjLOT3Alz7ekD8FwxGePoMYTlXVC5w+dbmKT/3wmz4dUW1QVViYPjV7JAtK/Zs+KpcMoCkgmD4VruhF+4OePnK7ClY2RZ4+vpl1EOJbmD6+z+QqJj6dPkZ5VyPm/Jw+kIS8HgIIlj5S/0OKYwKbPjEnUKsv7Js+YqtjTcUSmz5/Z38ymAebPtw5NQB6/Js+ORJqQr3Olj7pB4+1SVeaPvYh4R42MaA+X0q8YZYlmD74LOjnosCaPvpMe8apYJ0+A+Q/eldVmD7kLms227aaPp2BcCux1p8+fuot44PnmT4AmC60x/GePgcBGokr/Zs+bomWFioMnD5HVUN8Qx+YPvXd5apz5Z0+YenP3SPtmT5LamMK1e6aPsF6Zglg2J0+dAAry/Qhnj4xGSwws52ePjse/nYbYZw+xAbUpi+Pnz4oMaYTnsWcPvRn8T4TRp0+d9RxWIJYmz4hHCDK8AmZPqCrDfdj/Js+WPQQyKidnD4+ETUC3iyXPn17Ti3JvZg+R+xJE5+UlT4+XnhmfhuWPrMkbOl4OZg+HWptdIlekj5d8Sb8Xe2TPgebZbdnEpA+9obcDA+Gkj41Vv+k2iiOPihzYY99Fo4+Gjnp0dxKjT59obKcgGyKPrYy2/ahl4o+9RTULCwtiT7bO7ZVd9mBPlZwr8xR0o4+cE9E9A/+hz4RiKS/9RCIPtvoNFXcZIU+I61c2v/Nfz515FcGoOGAPq8AOZpHnIM+Rvt3gvCWgT6NycO00C97PkzcOUw4sH8+0LVWe0ueej4gpUPsjGd7PijcWHmjbXY+E5u6qPu6dT6D8uF4GM51PqawvVv/x3I+jH4E6aykbz4bPga61s5qPnue3sqUAmk+ABkEv0rUZz4YCalAWsJoPu8SVaAgt2k+wyInonh7ZT6085q5GIVkPvu3EIF/TmA+YXIYIol8Yj7QUfRzpVhcPuWD2ulDmFw+mE9/vEimWD4iQ+0Tfp9SPrO4SGQyk1M++IfKJw2aVj5w1lvZdUZWPoA4yezLTFI+cQ/GRQz8VD67c8d3pF1TPuvIwrv0elM+bKVRDGagVT7RpLzAslBVPiHlcXp3I1M+FpAsQdTzTT6n5A8abmlCPp58Fdn6mCs+T99YADXNJT6O3wPgBaFNPszApflF5Fs+sHYHxbs9Wz736z92kNVYPtL9eaZotlc+DfzSYAsaTT4WviVHWXhKPp2efQn7fE8+CLNGJfIPTz4AmB1kBtdOPqK89cSKq0s+n+Rzo88lUD56hgWFgQpRPi1CDpS1fVA+jLlBW5VVUT4y0K1hf0dTPoPlW7xQrl4+r1Qxq2bgXT6YRInA3kxkPuTs8yDmY2E+pQ33ZmZgYz6LzUVp5pdqPhcfL4b+B28+J0344bJcbD5nGjo//11yPvQGjummWnQ+z/a+wD22dz7dUSvfxWN7Pulvr0Qvb3g+8EfKTxFIaz4=\",\"dtype\":\"float64\",\"order\":\"little\",\"shape\":[154]}},\"selected\":{\"id\":\"1058\"},\"selection_policy\":{\"id\":\"1057\"}},\"id\":\"1034\",\"type\":\"ColumnDataSource\"},{\"attributes\":{\"label\":{\"value\":\"Sonora\"},\"renderers\":[{\"id\":\"1044\"}]},\"id\":\"1048\",\"type\":\"LegendItem\"},{\"attributes\":{\"click_policy\":\"mute\",\"coordinates\":null,\"group\":null,\"items\":[{\"id\":\"1047\"},{\"id\":\"1048\"}],\"location\":[0,0]},\"id\":\"1046\",\"type\":\"Legend\"},{\"attributes\":{\"end\":5,\"start\":3},\"id\":\"1004\",\"type\":\"Range1d\"},{\"attributes\":{},\"id\":\"1013\",\"type\":\"BasicTicker\"},{\"attributes\":{},\"id\":\"1020\",\"type\":\"PanTool\"},{\"attributes\":{},\"id\":\"1059\",\"type\":\"UnionRenderers\"},{\"attributes\":{},\"id\":\"1010\",\"type\":\"LogScale\"},{\"attributes\":{},\"id\":\"1006\",\"type\":\"DataRange1d\"},{\"attributes\":{},\"id\":\"1060\",\"type\":\"Selection\"},{\"attributes\":{},\"id\":\"1025\",\"type\":\"HelpTool\"},{\"attributes\":{\"source\":{\"id\":\"1040\"}},\"id\":\"1045\",\"type\":\"CDSView\"},{\"attributes\":{\"source\":{\"id\":\"1034\"}},\"id\":\"1039\",\"type\":\"CDSView\"},{\"attributes\":{},\"id\":\"1053\",\"type\":\"AllLabels\"},{\"attributes\":{\"line_color\":\"#E69F00\",\"line_width\":3,\"x\":{\"field\":\"x\"},\"y\":{\"field\":\"y\"}},\"id\":\"1041\",\"type\":\"Line\"},{\"attributes\":{\"bottom_units\":\"screen\",\"coordinates\":null,\"fill_alpha\":0.5,\"fill_color\":\"lightgrey\",\"group\":null,\"left_units\":\"screen\",\"level\":\"overlay\",\"line_alpha\":1.0,\"line_color\":\"black\",\"line_dash\":[4,4],\"line_width\":2,\"right_units\":\"screen\",\"syncable\":false,\"top_units\":\"screen\"},\"id\":\"1026\",\"type\":\"BoxAnnotation\"},{\"attributes\":{},\"id\":\"1021\",\"type\":\"WheelZoomTool\"},{\"attributes\":{\"axis\":{\"id\":\"1012\"},\"coordinates\":null,\"group\":null,\"ticker\":null},\"id\":\"1015\",\"type\":\"Grid\"},{\"attributes\":{},\"id\":\"1023\",\"type\":\"SaveTool\"},{\"attributes\":{},\"id\":\"1056\",\"type\":\"AllLabels\"},{\"attributes\":{\"coordinates\":null,\"data_source\":{\"id\":\"1034\"},\"glyph\":{\"id\":\"1035\"},\"group\":null,\"hover_glyph\":null,\"muted_glyph\":{\"id\":\"1037\"},\"nonselection_glyph\":{\"id\":\"1036\"},\"view\":{\"id\":\"1039\"}},\"id\":\"1038\",\"type\":\"GlyphRenderer\"},{\"attributes\":{\"line_alpha\":0.1,\"line_color\":\"#0072B2\",\"line_width\":3,\"x\":{\"field\":\"x\"},\"y\":{\"field\":\"y\"}},\"id\":\"1036\",\"type\":\"Line\"},{\"attributes\":{\"overlay\":{\"id\":\"1026\"}},\"id\":\"1022\",\"type\":\"BoxZoomTool\"},{\"attributes\":{},\"id\":\"1024\",\"type\":\"ResetTool\"},{\"attributes\":{\"tools\":[{\"id\":\"1020\"},{\"id\":\"1021\"},{\"id\":\"1022\"},{\"id\":\"1023\"},{\"id\":\"1024\"},{\"id\":\"1025\"}]},\"id\":\"1027\",\"type\":\"Toolbar\"},{\"attributes\":{\"axis_label\":\"Wavelength [\\u03bcm]\",\"axis_label_text_font\":\"times\",\"axis_label_text_font_size\":\"14pt\",\"axis_label_text_font_style\":\"bold\",\"coordinates\":null,\"formatter\":{\"id\":\"1055\"},\"group\":null,\"major_label_policy\":{\"id\":\"1056\"},\"major_label_text_font\":\"times\",\"major_label_text_font_size\":\"14pt\",\"ticker\":{\"id\":\"1013\"}},\"id\":\"1012\",\"type\":\"LinearAxis\"}],\"root_ids\":[\"1003\"]},\"title\":\"Bokeh Application\",\"version\":\"2.4.3\"}};\n",
       "  const render_items = [{\"docid\":\"68449679-654f-438d-8295-218fa9ebda56\",\"root_ids\":[\"1003\"],\"roots\":{\"1003\":\"e55391ec-6bd6-493c-9117-565e5aae929e\"}}];\n",
       "  root.Bokeh.embed.embed_items_notebook(docs_json, render_items);\n",
       "  }\n",
       "  if (root.Bokeh !== undefined) {\n",
       "    embed_document(root);\n",
       "  } else {\n",
       "    let attempts = 0;\n",
       "    const timer = setInterval(function(root) {\n",
       "      if (root.Bokeh !== undefined) {\n",
       "        clearInterval(timer);\n",
       "        embed_document(root);\n",
       "      } else {\n",
       "        attempts++;\n",
       "        if (attempts > 100) {\n",
       "          clearInterval(timer);\n",
       "          console.log(\"Bokeh: ERROR: Unable to run BokehJS code because BokehJS library is missing\");\n",
       "        }\n",
       "      }\n",
       "    }, 10, root)\n",
       "  }\n",
       "})(window);"
      ],
      "application/vnd.bokehjs_exec.v0+json": ""
     },
     "metadata": {
      "application/vnd.bokehjs_exec.v0+json": {
       "id": "1003"
      }
     },
     "output_type": "display_data"
    }
   ],
   "source": [
    "show(jpi.spectrum([x]*2,[df['regridy'], sony], legend=['PICASO', 'Sonora']\n",
    "                  ,plot_width=800,x_range=wave_range,y_axis_type='log'))\n"
   ]
  },
  {
   "cell_type": "markdown",
   "metadata": {},
   "source": [
    "## Thermal Contribution Function \n",
    "\n",
    "Contribution functions give us an understanding of where pressures flux is being emitted (e.g. [Lothringer et al 2018](https://iopscience.iop.org/article/10.3847/1538-4357/aadd9e#apjaadd9es3-3-1) Figure 12) "
   ]
  },
  {
   "cell_type": "code",
   "execution_count": 9,
   "metadata": {},
   "outputs": [
    {
     "data": {
      "image/png": "[encoded data removed]",
      "text/plain": [
       "<Figure size 1500x1000 with 2 Axes>"
      ]
     },
     "metadata": {},
     "output_type": "display_data"
    }
   ],
   "source": [
    "fig, ax, CF = jpi.thermal_contribution(df['full_output'], norm=jpi.colors.LogNorm(vmin=1e7, vmax=1e11))"
   ]
  },
  {
   "cell_type": "code",
   "execution_count": null,
   "metadata": {},
   "outputs": [],
   "source": []
  }
 ],
 "metadata": {
  "kernelspec": {
   "display_name": "Python 3 (ipykernel)",
   "language": "python",
   "name": "python3"
  },
  "language_info": {
   "codemirror_mode": {
    "name": "ipython",
    "version": 3
   },
   "file_extension": ".py",
   "mimetype": "text/x-python",
   "name": "python",
   "nbconvert_exporter": "python",
   "pygments_lexer": "ipython3",
   "version": "3.9.12"
  },
  "toc": {
   "base_numbering": 1,
   "nav_menu": {},
   "number_sections": true,
   "sideBar": true,
   "skip_h1_title": false,
   "title_cell": "Table of Contents",
   "title_sidebar": "Contents",
   "toc_cell": true,
   "toc_position": {},
   "toc_section_display": true,
   "toc_window_display": false
  },
  "varInspector": {
   "cols": {
    "lenName": 16,
    "lenType": 16,
    "lenVar": 40
   },
   "kernels_config": {
    "python": {
     "delete_cmd_postfix": "",
     "delete_cmd_prefix": "del ",
     "library": "var_list.py",
     "varRefreshCmd": "print(var_dic_list())"
    },
    "r": {
     "delete_cmd_postfix": ") ",
     "delete_cmd_prefix": "rm(",
     "library": "var_list.r",
     "varRefreshCmd": "cat(var_dic_list()) "
    }
   },
   "types_to_exclude": [
    "module",
    "function",
    "builtin_function_or_method",
    "instance",
    "_Feature"
   ],
   "window_display": false
  }
 },
 "nbformat": 4,
 "nbformat_minor": 2
}
