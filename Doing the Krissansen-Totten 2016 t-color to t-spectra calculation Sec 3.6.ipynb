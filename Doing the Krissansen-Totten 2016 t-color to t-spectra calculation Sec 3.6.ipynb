{
 "cells": [
  {
   "cell_type": "code",
   "execution_count": 6,
   "id": "7738655c",
   "metadata": {},
   "outputs": [
    {
     "name": "stdout",
     "output_type": "stream",
     "text": [
      "t_spectra ~= 32.82x t_color\n"
     ]
    }
   ],
   "source": [
    "def compTcolor(R, lamb = 700, phot_bin_width = 100):\n",
    "    dL = lamb / R\n",
    "    fluxsuppression = phot_bin_width / dL\n",
    "    LHS = 27.6/5\n",
    "    RHSmultifactor = (fluxsuppression / (np.sqrt(3*fluxsuppression))) * np.sqrt(3)\n",
    "    LHS = (LHS/RHSmultifactor)**2\n",
    "    return 1/LHS\n",
    "    \n",
    "print( 't_spectra ~= {0:.2f}x t_color'.format(compTcolor(7000)) )\n",
    "      "
   ]
  },
  {
   "cell_type": "code",
   "execution_count": null,
   "id": "90cbf7ee",
   "metadata": {},
   "outputs": [],
   "source": []
  }
 ],
 "metadata": {
  "kernelspec": {
   "display_name": "Python 3 (ipykernel)",
   "language": "python",
   "name": "python3"
  },
  "language_info": {
   "codemirror_mode": {
    "name": "ipython",
    "version": 3
   },
   "file_extension": ".py",
   "mimetype": "text/x-python",
   "name": "python",
   "nbconvert_exporter": "python",
   "pygments_lexer": "ipython3",
   "version": "3.9.12"
  }
 },
 "nbformat": 4,
 "nbformat_minor": 5
}
