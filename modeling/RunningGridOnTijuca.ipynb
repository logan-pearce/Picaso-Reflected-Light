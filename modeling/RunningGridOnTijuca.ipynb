{
 "cells": [
  {
   "cell_type": "code",
   "execution_count": null,
   "id": "c6f3fed8",
   "metadata": {},
   "outputs": [
    {
     "name": "stdout",
     "output_type": "stream",
     "text": [
      "[0.4, 2.0]\n"
     ]
    },
    {
     "name": "stderr",
     "output_type": "stream",
     "text": [
      "mkdir: ReflectXGasGiantModelGrid-Neptune-Tstar3000-Rstar0.2-Teq187.1302769665348-sep0.1-rad0.35-mass0.05-mh100-co0.5-phase0: File exists\n"
     ]
    }
   ],
   "source": [
    "import numpy as np\n",
    "#from tools.tools import *\n",
    "from myastrotools.tijuca import *\n",
    "import astropy.units as u\n",
    "import pandas as pandas\n",
    "\n",
    "def Run1Model(p, num_tangle = 6, num_gangle = 6):\n",
    "\n",
    "    grid = p['name']\n",
    "    ## Planet:\n",
    "    planettype = p['planet_type']\n",
    "    Tint = p['tint'] # Internal Temperature of your Planet in K\n",
    "    Teq = ComputeTeq(p['st_teff'], p['rstar']*u.Rsun, p['au']*u.au, \n",
    "                     Ab = 0.3, fprime = 1/4) # planet equilibrium temperature \n",
    "    radius = p['pl_rad'] #Rjup\n",
    "    massj = p['pl_mass']\n",
    "    semi_major = p['au']\n",
    "    phase = p['phase']\n",
    "\n",
    "    ## Star:\n",
    "    T_star = p['st_teff'] # K, star effective temperature\n",
    "    logg = p['logg'] #logg , cgs\n",
    "    metal = p['feh'] # metallicity of star\n",
    "    r_star = p['rstar'] # solar radius\n",
    "\n",
    "\n",
    "    ## Climate:\n",
    "    nlevel = p['nlevel'] # number of plane-parallel levels in your code\n",
    "    nofczns = p['nofczns'] # number of convective zones initially. Let's not play with this for now.\n",
    "    nstr_upper = p['nstr_upper'] # top most level of guessed convective zone\n",
    "    nstr_deep = nlevel -2 # this is always the case. Dont change this\n",
    "    nstr = np.array([0,nstr_upper,nstr_deep,0,0,0]) # initial guess of convective zones\n",
    "    rfacv = p['rfacv']\n",
    "\n",
    "    ## Opacities:\n",
    "    #\n",
    "    planet_mh = p['mh']\n",
    "    planet_mh_CtoO = p['cto']\n",
    "\n",
    "\n",
    "    directory = f'{grid}-{planettype}-Tstar{T_star}-Rstar{r_star}-Teq{Teq}-sep{semi_major}-rad{radius}-mass{massj}-mh{planet_mh}-co{planet_mh_CtoO}-phase{phase}'\n",
    "    #savefiledirectory = p['output_dir']+directory\n",
    "    output_dir = ''\n",
    "    savefiledirectory = output_dir+directory\n",
    "\n",
    "    local_ck_path = f'/Volumes/Oy/picaso/reference/kcoeff_2020/'\n",
    "    #local_ck_path = p['local_ck_path']\n",
    "\n",
    "        \n",
    "        \n",
    "    planet_properties = {\n",
    "        'tint':Tint, 'Teq':Teq, 'radius':radius, 'radius_unit':u.Rjup,\n",
    "         'mass':massj, 'mass_unit': u.Mjup,\n",
    "         'gravity': None, 'gravity_unit':None,\n",
    "        'semi_major':semi_major, 'semi_major_unit': u.AU,\n",
    "        'mh': planet_mh, 'CtoO':planet_mh_CtoO, 'phase':phase, 'num_tangle':num_tangle,\n",
    "        'num_gangle':num_gangle, 'noTiOVO':p['noTiOVO'], 'planet_mh_str':p['mh_str'],\n",
    "        'local_ck_path':local_ck_path\n",
    "    }\n",
    "\n",
    "    star_properties = {\n",
    "        'Teff':T_star, 'logg':logg, 'mh':metal, 'radius':r_star\n",
    "    }\n",
    "\n",
    "    climate_run_setup = {\n",
    "        'nlevel':nlevel, 'nofczns':nofczns, 'nstr_upper':nstr_upper,\n",
    "        'nstr_deep':nstr_deep, 'rfacv':rfacv\n",
    "    }\n",
    "    #opa_file = p['opa_file']\n",
    "    opa_file = False\n",
    "    print(p['wave_range'])\n",
    "    wave_range = [float(p['wave_range'].split(',')[0].replace('[','')),\n",
    "              float(p['wave_range'].split(',')[1].replace(' ','').replace(']',''))]\n",
    "    spectrum_setup = {'wave_range':wave_range,\n",
    "                      'calculation':'reflected', 'R':150\n",
    "                     }\n",
    "\n",
    "    if p['guess'] == 'guillot':\n",
    "        use_guillotpt = True\n",
    "\n",
    "\n",
    "    cj = MakeModelCloudFreePlanet(planet_properties, \n",
    "                            star_properties,\n",
    "                            use_guillotpt = True,\n",
    "                            cdict = climate_run_setup,\n",
    "                            climate_pbottom = p['p_bottom'],\n",
    "                            climate_ptop = p['p_top'], \n",
    "                            compute_spectrum = True,\n",
    "                            specdict = spectrum_setup,\n",
    "                            savefiledirectory = savefiledirectory\n",
    "                 )\n",
    "    return directory\n",
    "\n",
    "def RunGrid(sheet_id='11u2eirdZcWZdjnKFn3vzqbCtKCodstP-KnoGXC5FdR8', \n",
    "             sheet_name='GasGiantsBaseModels'):\n",
    "    import time\n",
    "    url = f\"https://docs.google.com/spreadsheets/d/{sheet_id}/gviz/tq?tqx=out:csv&gid={sheet_name}\"\n",
    "    k = open('RunReport.txt','w')\n",
    "    k.close()\n",
    "    p = pd.read_csv(url)\n",
    "    p = p.dropna(axis=1, how='all')\n",
    "    directory = Run1Model(p.loc[0])\n",
    "    with open(directory+'/terminal_output.txt','r') as f:\n",
    "        z = f.read()\n",
    "        k = open('RunReport.txt','a')\n",
    "        t = time.localtime()\n",
    "        outtime = str(t.tm_year)+'-'+str(t.tm_mon)+'-'+str(t.tm_mday)+'-'+str(t.tm_hour)+':'+str(t.tm_min)+':'+str(t.tm_sec)\n",
    "        if 'YAY ! ENDING WITH CONVERGENCE' in z:\n",
    "            k.write(directory + ' ' +outtime + '  converged \\n')\n",
    "        else:\n",
    "            k.write(directory + ' ' +outtime + '  FAILED \\n')\n",
    "        k.close()\n",
    "        \n",
    "    return p\n",
    "\n",
    "\n",
    "p = RunGrid()\n",
    "\n",
    "\n"
   ]
  },
  {
   "cell_type": "code",
   "execution_count": 6,
   "id": "fbe5077e",
   "metadata": {},
   "outputs": [
    {
     "data": {
      "text/plain": [
       "True"
      ]
     },
     "execution_count": 6,
     "metadata": {},
     "output_type": "execute_result"
    }
   ],
   "source": [
    "with open('ReflectXGasGiantModelGrid-Neptune-Tstar3000-Rstar0.2-Teq187.1302769665348-sep0.1-rad0.35-mass0.05-mh100-co0.5-phase0/terminal_output.txt','r'\n",
    "    ) as f:\n",
    "    z = f.read()\n",
    "\n",
    "'YAY ! ENDING WITH CONVERGENCE' in z\n",
    "\n",
    "\n",
    "\n"
   ]
  },
  {
   "cell_type": "code",
   "execution_count": 44,
   "id": "911083a5",
   "metadata": {},
   "outputs": [],
   "source": [
    "savefiledirectory = 'ReflectXGasGiantModelGrid-Neptune-Tstar3000-Rstar0.2-Teq187.1302769665348-sep0.1-rad0.35-mass0.05-mh100-co0.5-phase0'\n",
    "pl, noclouds = pickle.load(open(savefiledirectory+'/cloud-free-model.pkl','rb'))\n",
    "pdict, sdict, cdict = pickle.load(open(savefiledirectory+'/cloud-free-model-inputs.pkl','rb'))\n",
    "import picaso.justdoit as jdi\n",
    "wave_range = [float(p['wave_range'][0].split(',')[0].replace('[','')),\n",
    "              float(p['wave_range'][0].split(',')[1].replace(' ','').replace(']',''))]\n",
    "opacity = jdi.opannection(wave_range=wave_range)"
   ]
  },
  {
   "cell_type": "code",
   "execution_count": 55,
   "id": "259814ce",
   "metadata": {},
   "outputs": [
    {
     "ename": "ValueError",
     "evalue": "too many values to unpack (expected 3)",
     "output_type": "error",
     "traceback": [
      "\u001b[0;31m---------------------------------------------------------------------------\u001b[0m",
      "\u001b[0;31mValueError\u001b[0m                                Traceback (most recent call last)",
      "Cell \u001b[0;32mIn [55], line 36\u001b[0m\n\u001b[1;32m     31\u001b[0m     \u001b[38;5;28;01mreturn\u001b[39;00m wno, alb, fpfs, spec_df[\u001b[38;5;124m'\u001b[39m\u001b[38;5;124mfull_output\u001b[39m\u001b[38;5;124m'\u001b[39m]\n\u001b[1;32m     33\u001b[0m spectrum_setup \u001b[38;5;241m=\u001b[39m {\u001b[38;5;124m'\u001b[39m\u001b[38;5;124mwave_range\u001b[39m\u001b[38;5;124m'\u001b[39m:wave_range,\n\u001b[1;32m     34\u001b[0m                       \u001b[38;5;124m'\u001b[39m\u001b[38;5;124mcalculation\u001b[39m\u001b[38;5;124m'\u001b[39m:p[\u001b[38;5;124m'\u001b[39m\u001b[38;5;124mwave_range\u001b[39m\u001b[38;5;124m'\u001b[39m][\u001b[38;5;241m0\u001b[39m], \u001b[38;5;124m'\u001b[39m\u001b[38;5;124mR\u001b[39m\u001b[38;5;124m'\u001b[39m:\u001b[38;5;241m150\u001b[39m\u001b[38;5;66;03m#'R':p['R'][0]\u001b[39;00m\n\u001b[1;32m     35\u001b[0m                      }\n\u001b[0;32m---> 36\u001b[0m wno, alb, fpfs \u001b[38;5;241m=\u001b[39m ComputeSpectrum(noclouds, pdict, sdict, spectrum_setup, calculation \u001b[38;5;241m=\u001b[39m \u001b[38;5;124m'\u001b[39m\u001b[38;5;124mplanet\u001b[39m\u001b[38;5;124m'\u001b[39m)\n",
      "\u001b[0;31mValueError\u001b[0m: too many values to unpack (expected 3)"
     ]
    }
   ],
   "source": [
    "pl, noclouds = pickle.load(open(savefiledirectory+'/cloud-free-model.pkl','rb'))\n",
    "pdict, sdict, cdict = pickle.load(open(savefiledirectory+'/cloud-free-model-inputs.pkl','rb'))\n",
    "\n",
    "def ComputeSpectrum(atm_df, pdict, sdict, specdict, calculation = 'planet'):\n",
    "    opa_mon = jdi.opannection(wave_range=specdict['wave_range'])\n",
    "    spec = jdi.inputs(calculation=\"planet\")\n",
    "\n",
    "    spec.phase_angle(phase=pdict['phase']*np.pi/180, num_tangle=pdict['num_tangle'],\n",
    "                     num_gangle=pdict['num_gangle'])\n",
    "    if not pdict['gravity']:\n",
    "        spec.gravity(radius=pdict['radius'], radius_unit=pdict['radius_unit'], \n",
    "            mass = pdict['mass'], mass_unit=pdict['mass_unit'])\n",
    "    else:\n",
    "        spec.gravity(gravity=pdict['gravity'], gravity_unit=pdict['gravity_unit'])\n",
    "\n",
    "    # set up star:\n",
    "    spec.star(opa_mon, temp = sdict['Teff'], metal = np.log10(sdict['mh']), logg = sdict['logg'], \n",
    "            radius = sdict['radius'], radius_unit = u.R_sun, \n",
    "            semi_major = pdict['semi_major'], semi_major_unit = pdict['semi_major_unit'], database = 'phoenix')\n",
    "\n",
    "    spec.atmosphere(df=atm_df['ptchem_df'])\n",
    "    spec_df = spec.spectrum(opa_mon, \n",
    "                            calculation='reflected', \n",
    "                            full_output=True)\n",
    "    wno, alb, fpfs, full_output = spec_df['wavenumber'], spec_df['albedo'], \\\n",
    "                                    spec_df['fpfs_reflected'],  spec_df['full_output']\n",
    "    wno,fpfs = jdi.mean_regrid(spec_df['wavenumber'],\n",
    "                          spec_df['fpfs_reflected'], R=specdict['R'])\n",
    "    wno,alb = jdi.mean_regrid(spec_df['wavenumber'],\n",
    "                          spec_df['fpfs_reflected'], R=specdict['R'])\n",
    "    return wno, alb, fpfs, spec_df['full_output']\n",
    "    \n",
    "spectrum_setup = {'wave_range':wave_range,\n",
    "                      'calculation':p['wave_range'][0], 'R':150#'R':p['R'][0]\n",
    "                     }\n",
    "wno, alb, fpfs, full_output = ComputeSpectrum(noclouds, pdict, sdict, spectrum_setup, calculation = 'planet')\n"
   ]
  },
  {
   "cell_type": "code",
   "execution_count": 54,
   "id": "ce2fcec0",
   "metadata": {},
   "outputs": [
    {
     "data": {
      "text/plain": [
       "2000"
      ]
     },
     "execution_count": 54,
     "metadata": {},
     "output_type": "execute_result"
    }
   ],
   "source": [
    "p['R'][0]"
   ]
  },
  {
   "cell_type": "code",
   "execution_count": 17,
   "id": "138be6ca",
   "metadata": {},
   "outputs": [
    {
     "data": {
      "text/plain": [
       "'2023-6-12-15:52:19'"
      ]
     },
     "execution_count": 17,
     "metadata": {},
     "output_type": "execute_result"
    }
   ],
   "source": [
    "import time\n",
    "t = time.localtime()\n",
    "str(t.tm_year)+'-'+str(t.tm_mon)+'-'+str(t.tm_mday)+'-'+str(t.tm_hour)+':'+str(t.tm_min)+':'+str(t.tm_sec)"
   ]
  },
  {
   "cell_type": "code",
   "execution_count": 13,
   "id": "ee59d573",
   "metadata": {},
   "outputs": [
    {
     "data": {
      "text/plain": [
       "time.struct_time(tm_year=2023, tm_mon=6, tm_mday=12, tm_hour=15, tm_min=50, tm_sec=30, tm_wday=0, tm_yday=163, tm_isdst=1)"
      ]
     },
     "execution_count": 13,
     "metadata": {},
     "output_type": "execute_result"
    }
   ],
   "source": [
    "t"
   ]
  },
  {
   "cell_type": "code",
   "execution_count": null,
   "id": "f73cac18",
   "metadata": {},
   "outputs": [],
   "source": []
  }
 ],
 "metadata": {
  "kernelspec": {
   "display_name": "Python 3 (ipykernel)",
   "language": "python",
   "name": "python3"
  },
  "language_info": {
   "codemirror_mode": {
    "name": "ipython",
    "version": 3
   },
   "file_extension": ".py",
   "mimetype": "text/x-python",
   "name": "python",
   "nbconvert_exporter": "python",
   "pygments_lexer": "ipython3",
   "version": "3.9.12"
  }
 },
 "nbformat": 4,
 "nbformat_minor": 5
}
