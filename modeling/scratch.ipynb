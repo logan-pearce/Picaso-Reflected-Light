{
 "cells": [
  {
   "cell_type": "code",
   "execution_count": 2,
   "id": "9e71c26d",
   "metadata": {},
   "outputs": [
    {
     "data": {
      "text/plain": [
       "'2023-8-17-14:22:37'"
      ]
     },
     "execution_count": 2,
     "metadata": {},
     "output_type": "execute_result"
    }
   ],
   "source": [
    "outtime"
   ]
  },
  {
   "cell_type": "code",
   "execution_count": null,
   "id": "083948e0",
   "metadata": {},
   "outputs": [],
   "source": [
    "def GenerateInitialReadMe(savefiledirectory,planettype,T_star,r_star,Teq_str,semi_major,radius,massj,\n",
    "                   planet_mh,planet_mh_CtoO,phase,pdict,sdict,cdict,specdict,recommended):\n",
    "    import time\n",
    "    t = time.localtime()\n",
    "    outtime = str(t.tm_year)+'-'+str(t.tm_mon)+'-'+str(t.tm_mday)+'-'+str(t.tm_hour)+':'+str(t.tm_min)+':'+str(t.tm_sec)\n",
    "\n",
    "    readme = f'''\n",
    "    ReflectX Gas Giant Picaso model \\n\n",
    "    -------------------------------\\n\n",
    "    generated {outtime} in python 3.8 \\n\n",
    "    Consult www.loganpearcescience/reflectx.html for more details \\n\\n\n",
    "\n",
    "    Model: \\n\n",
    "     - Planet type: {planettype} \\n\n",
    "     - Star T_eff [K]: {T_star} \\n\n",
    "     - Star radius [Rsun]: {r_star} \\n\n",
    "     - Planet Eq Temp [K]: {int(Teq_str)} \\n\n",
    "     - Planet semi-major axis [au]: {semi_major} \\n\n",
    "     - Planet radius [Rjup]: {radius} \\n\n",
    "     - Planet mass [Mjup]: {massj} \\n\n",
    "     - Planet metallicity: {planet_mh} \\n\n",
    "     - Planet C/O ratio: {planet_mh_CtoO} \\n\n",
    "     - Phase: {phase} \\n\\n\n",
    "\n",
    "    Picaso input parameters: \\n\n",
    "    These dictionaries are in machine-readable format (pickle) in '/cloud-free-model-inputs.pkl' \\n\n",
    "    To read them in, run: `pdict, sdict, cdict = pickle.load(open(path_to_model+'/cloud-free-model-inputs.pkl','rb'))` \\n\n",
    "     - Planet Properties Dictionary: {pdict} \\n\n",
    "     - Star Properties Dictionary: {sdict} \\n\n",
    "     - Climate Run Parameters Dictionary: {cdict} \\n\n",
    "     - Spectrum Calculation Dictionary: {specdict} \\n\\n\n",
    "\n",
    "    Virga-recommended condensation gases: {recommended} \\n\\n\n",
    "\n",
    "    DIRECTORY CONTENTS:\\n\n",
    "    ------------------\\n\\n\n",
    "\n",
    "    Cloud-free full PICASO output located in '/cloud-free-model.pkl'\\n\n",
    "    To read it in: `model = pickle.load(open(path_to_model+'/cloud-free-model.pkl','rb'))`\\n\\n\n",
    "\n",
    "    Cloud-free spectrum located in '/cloud-free-spectrum-full-output-R'+str(specdict['R'])': \\n \n",
    "     - Machine readable pickle file: `spectrum_dictionary = pickle.load(open(path_to_model+'/cloud-free-spectrum-full-output-R'+str(specdict['R']+'.pkl'), 'rb'))`\\n\n",
    "     - Human and machine readable csv: `spectrum_df = pandas.read_csv(path_to_model+'/cloud-free-spectrum-full-output-R'+str(specdict['R'])+'.csv', delim_whitespace=True)`\\n\\n\n",
    "\n",
    "    `/terminal-output.txt`: A text file containing terminal output during the run. Useful for assessing\n",
    "     model convergence.\\n\\n\n",
    "\n",
    "    Plots:\\n\\n\n",
    "\n",
    "     - `4SpectrumPlot`: plot of planet albedo spectrum, planet contrast (Fp/Fs), stellar spectrum, and planet spectrum (Fp/Fs * Fs)\\n\n",
    "     - `Abundances`: molecular abundances of the 8 most abundant molecules as a function of pressure (altitude)\n",
    "     - `PTprofile`: Pressure/Temperature profile from climate calculation\n",
    "     - `recommended-gases.html`: plot of PT profile against gas condensation curves with the gases used in the spectrum identified with heavy lines\n",
    "\n",
    "    '''\n",
    "    k = open(savefiledirectory+'/readme.txt','w')\n",
    "    k.write(readme)\n",
    "    k.close()\n",
    "\n",
    "\n"
   ]
  }
 ],
 "metadata": {
  "kernelspec": {
   "display_name": "Python 3 (ipykernel)",
   "language": "python",
   "name": "python3"
  },
  "language_info": {
   "codemirror_mode": {
    "name": "ipython",
    "version": 3
   },
   "file_extension": ".py",
   "mimetype": "text/x-python",
   "name": "python",
   "nbconvert_exporter": "python",
   "pygments_lexer": "ipython3",
   "version": "3.9.17"
  }
 },
 "nbformat": 4,
 "nbformat_minor": 5
}
