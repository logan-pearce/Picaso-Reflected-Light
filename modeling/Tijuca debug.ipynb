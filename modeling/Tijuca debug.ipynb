{
 "cells": [
  {
   "cell_type": "code",
   "execution_count": 5,
   "id": "8aeaeef2",
   "metadata": {},
   "outputs": [
    {
     "name": "stdout",
     "output_type": "stream",
     "text": [
      "NOTE: You are loading Opacity tables without any Gaseous TiO and VO opacities\n",
      "Turning off Raman for Non-H2 atmosphere\n"
     ]
    },
    {
     "name": "stderr",
     "output_type": "stream",
     "text": [
      "/Users/loganpearce/anaconda3/envs/py39/lib/python3.9/site-packages/numpy/core/fromnumeric.py:86: VisibleDeprecationWarning: Creating an ndarray from ragged nested sequences (which is a list-or-tuple of lists-or-tuples-or ndarrays with different lengths or shapes) is deprecated. If you meant to do this, you must specify 'dtype=object' when creating the ndarray.\n",
      "  return ufunc.reduce(obj, axis, dtype, out, **passkwargs)\n"
     ]
    },
    {
     "name": "stdout",
     "output_type": "stream",
     "text": [
      "Take caution in analyzing results. There have been a calculated particle radii off the Mie grid, which has a min radius of 1e-08cm and distribution of 2. The following errors:2.6930024417619256e-08cm for the 1th gas at the 0th grid point; 1.3264823912417243e-08cm for the 2th gas at the 0th grid point; 3.460573690520915e-08cm for the 1th gas at the 1th grid point; 1.7045587471443606e-08cm for the 2th gas at the 1th grid point; 4.3524843917545006e-08cm for the 1th gas at the 2th grid point; 2.1438774267792e-08cm for the 2th gas at the 2th grid point; 5.477794256304102e-08cm for the 1th gas at the 3th grid point; 2.633615348879204e-08cm for the 2th gas at the 3th grid point; 6.867387697523775e-08cm for the 1th gas at the 4th grid point; 3.278467507327285e-08cm for the 2th gas at the 4th grid point; 8.56190428496243e-08cm for the 1th gas at the 5th grid point; 4.0912966683966955e-08cm for the 2th gas at the 5th grid point; 1.0614510351665094e-07cm for the 1th gas at the 6th grid point; 5.077460776779082e-08cm for the 2th gas at the 6th grid point; 1.310407801421618e-07cm for the 1th gas at the 7th grid point; 6.232616980958505e-08cm for the 2th gas at the 7th grid point; 1.6145692460157373e-07cm for the 1th gas at the 8th grid point; 7.641339725724563e-08cm for the 2th gas at the 8th grid point; 1.9879688449997174e-07cm for the 1th gas at the 9th grid point; 9.427429080398159e-08cm for the 2th gas at the 9th grid point; 2.4466082818416133e-07cm for the 1th gas at the 10th grid point; 1.1493790636527423e-07cm for the 2th gas at the 10th grid point; 3.009368526207742e-07cm for the 1th gas at the 11th grid point; 1.4179783188574178e-07cm for the 2th gas at the 11th grid point; 1.7489870162658345e-07cm for the 2th gas at the 12th grid point; 2.1577177791873192e-07cm for the 2th gas at the 13th grid point; 2.6631942075435974e-07cm for the 2th gas at the 14th grid point;  Turn off warnings by setting verbose=False.\n",
      "Done\n"
     ]
    }
   ],
   "source": [
    "import picaso.justdoit as jdi\n",
    "local_ck_path = f'/Volumes/Oy/picaso/reference/kcoeff_2020/'\n",
    "ck_db_name = local_ck_path + f'sonora_2020_feh+200_co_050_noTiOVO.data.196'\n",
    "opacity_ck = jdi.opannection(ck_db=ck_db_name, wave_range = [0.4,2.0])\n",
    "\n",
    "from virga import justdoit as vj\n",
    "savefiledirectory = 'ReflectXGasGiantModelGrid-Neptune-Tstar3000-Rstar0.2-Teq187-sep0.1-rad0.35-mass0.05-mh100-co0.5-phase0'\n",
    "pl, noclouds = pickle.load(open(savefiledirectory+'/cloud-free-model.pkl','rb'))\n",
    "\n",
    "temperature = noclouds['temperature']\n",
    "pressure = noclouds['pressure']\n",
    "metallicity_TEMP = 0\n",
    "\n",
    "# got molecules for cloud species:\n",
    "mols = ['H2O','KCl', 'ZnS', 'NH3']\n",
    "#mols = ['H2O','KCl', 'ZnS']\n",
    "# add atmosphere from climate run:\n",
    "atm = noclouds['ptchem_df']\n",
    "# add kzz:\n",
    "atm['kz'] = [1e9]*atm.shape[0]\n",
    "\n",
    "# Just set all this up again:\n",
    "clouds = jdi.inputs(calculation='planet') # start a calculation\n",
    "pl.phase_angle(0)\n",
    "\n",
    "# add gravity:\n",
    "clouds.gravity(radius=0.35, radius_unit=u.Rjup, \n",
    "    mass = 0.05, mass_unit=u.Mjup)\n",
    "\n",
    "clouds.star(opacity_ck, temp = 3000, metal = np.log10(1), logg = 5, \n",
    "    radius = 0.2, radius_unit=u.R_sun, \n",
    "    semi_major = 0.1, semi_major_unit = u.au, database='phoenix')\n",
    "# add atmosphere from climate run with kzz:\n",
    "clouds.atmosphere(df=atm)\n",
    "# get clouds from reference:\n",
    "\n",
    "meiff_directory ='/Volumes/Oy/virga/virga/reference/RefIndexFiles'\n",
    "\n",
    "clouds_added = clouds.virga(mols, meiff_directory, fsed=0.1, mh=10**(metallicity_TEMP),\n",
    "                     mmw = 2.2, full_output=True)\n",
    "\n",
    "print('Done')\n"
   ]
  },
  {
   "cell_type": "code",
   "execution_count": null,
   "id": "a6a62c74",
   "metadata": {},
   "outputs": [],
   "source": []
  }
 ],
 "metadata": {
  "kernelspec": {
   "display_name": "Python 3 (ipykernel)",
   "language": "python",
   "name": "python3"
  },
  "language_info": {
   "codemirror_mode": {
    "name": "ipython",
    "version": 3
   },
   "file_extension": ".py",
   "mimetype": "text/x-python",
   "name": "python",
   "nbconvert_exporter": "python",
   "pygments_lexer": "ipython3",
   "version": "3.9.12"
  }
 },
 "nbformat": 4,
 "nbformat_minor": 5
}
