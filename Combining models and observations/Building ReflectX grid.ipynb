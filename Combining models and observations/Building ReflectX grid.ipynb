{
 "cells": [
  {
   "cell_type": "markdown",
   "id": "76e9b50b",
   "metadata": {},
   "source": [
    "name\tplanet_type\toutput_dir\tst_teff\trstar\tfeh\tlogg\tpl_mass\tpl_rad\tmh\tmh_str\tpl_teq\tau\tcto\ttint\trfacv\tnoTiOVO\tnstr_upper\tnlevel\tnofczns\tnstr_deep\tp_bottom\tp_top\tguess\tlocal_ck_path\t\t\t\t\t\t\t"
   ]
  },
  {
   "cell_type": "code",
   "execution_count": 6,
   "id": "6e2dae7b",
   "metadata": {},
   "outputs": [],
   "source": [
    "name = 'ReflectXGasGiantModelGrid'\n",
    "output_dir = '/data2/lpearce/ReflectXGasGiantModelGrid/cloudfree'\n",
    "\n",
    "st_teff = [3000,5000,5000,7000,7000]\n",
    "rstar = [0.2,0.8,10,1.7,10]\n",
    "feh = 1\n",
    "logg = [5,4.5,2.3,4.0,2.6]\n",
    "\n",
    "planet_type = ['Neptune','SuperNep','Saturn','Jupiter','SuperJup']\n",
    "pl_mass = [0.05,0.09,0.3,1,5]\n",
    "pl_rad = [0.35,0.54,0.8,1,0.9]\n",
    "mh = [100,50,10,3,1]\n",
    "mh_str = ['+200','+170','+100','+050','+000']\n",
    "\n",
    "au = [0.1,0.5,1,3,10]\n",
    "phase = [0,45,90,120,140]\n",
    "cto = [0.7,1.5]\n",
    "tint = 100\n",
    "rfacv = 0.5\n",
    "noTiOVO = True\n",
    "nstr_upper = 85\n",
    "nlevel = 91\n",
    "nstr_deep = 89\n",
    "nofczns = 1\n",
    "p_bottom = 2\n",
    "p_top = -6\n",
    "guess = 'guillot'\n",
    "local_ck_path = '/data/kcoeff_2020_v3'"
   ]
  },
  {
   "cell_type": "code",
   "execution_count": 10,
   "id": "ad6c2bdf",
   "metadata": {},
   "outputs": [
    {
     "name": "stdout",
     "output_type": "stream",
     "text": [
      "100% (1250 of 1250): |####################|  Done...\n"
     ]
    }
   ],
   "source": [
    "out = pd.DataFrame()\n",
    "from myastrotools.tools import update_progress\n",
    "import warnings\n",
    "warnings.filterwarnings('ignore')\n",
    "count = 0\n",
    "#Star\n",
    "for i in range(len(st_teff)):\n",
    "    #Planet\n",
    "    for j in range(len(pl_mass)):\n",
    "        #Sep:\n",
    "        for k in range(len(au)):\n",
    "            #Phase\n",
    "            for h in range(len(phase)):\n",
    "                #CtoO:\n",
    "                for c in range(len(cto)):\n",
    "                    dic = {'name':name, \n",
    "                           'planet_type':planet_type[j],\n",
    "                           'output_dir':output_dir,\n",
    "                           'st_teff':st_teff[i],\n",
    "                           'rstar':rstar[i],\n",
    "                           'feh':feh,\n",
    "                           'logg':logg[i],\n",
    "                           'pl_mass':pl_mass[j],\n",
    "                           'pl_rad':pl_rad[j],\n",
    "                           'mh':mh[j],\n",
    "                           'mh_str':mh_str[j],\n",
    "                           'au':au[k],\n",
    "                           'phase':phase[h],\n",
    "                           'cto':cto[c],\n",
    "                           'tint':tint,\n",
    "                           'rfacv':rfacv,\n",
    "                           'noTiOVO':noTiOVO,\n",
    "                           'nstr_upper':nstr_upper,\n",
    "                           'nlevel':nlevel,\n",
    "                           'nstr_deep':nstr_deep,\n",
    "                           'nofczns':nofczns,\n",
    "                           'p_bottom':p_bottom,\n",
    "                           'p_top':p_top,\n",
    "                           'guess':guess,\n",
    "                           'local_ck_path':local_ck_path\n",
    "                          }\n",
    "                    count += 1\n",
    "                    out = out.append(dic,ignore_index=True)\n",
    "                    update_progress(count,1250)\n",
    "out.to_csv('GasGiantBaseModelGrid.csv', index=False)"
   ]
  },
  {
   "cell_type": "markdown",
   "id": "c5974610",
   "metadata": {},
   "source": [
    "opa_file\twave_range\tcalculation\tR\tfsed\tkzz\tmmw\tcondensates\tvirga_mieff\toutput_dir\n",
    "\t[0.4,2.0]\tReflected\t2000\t0.1\t1.00E+09\t2.2\t\t/data/virga\t"
   ]
  },
  {
   "cell_type": "code",
   "execution_count": 13,
   "id": "273fec19",
   "metadata": {},
   "outputs": [
    {
     "name": "stdout",
     "output_type": "stream",
     "text": [
      "100% (10 of 10): |####################|  Done...\n"
     ]
    }
   ],
   "source": [
    "fsed = [0.1,0.5,1,3,6]\n",
    "kzz = [1e9,1e11]\n",
    "opa_file = '/data2/picaso_dbs/R60000/all_opacities_0.3_2_R60000.db'\n",
    "wave_range = [0.4,2.0]\n",
    "calculation = 'Reflected'\n",
    "R = 2000\n",
    "mmw = 2.2\n",
    "condensates = 'virga recommend'\n",
    "virga_meiff = '/data/virga'\n",
    "output_dir = '/data2/lpearce/ReflectXGasGiantModelGrid/cloudy'\n",
    "\n",
    "count = 0\n",
    "out = pd.DataFrame()\n",
    "for f in fsed:\n",
    "    for k in kzz:\n",
    "        dic = {\n",
    "            'opa_file':opa_file,\n",
    "            'wave_range':wave_range,\n",
    "            'calculation':calculation,\n",
    "            'R':R,\n",
    "            'fsed':f,\n",
    "            'kzz':k,\n",
    "            'mmw':mmw,\n",
    "            'condensates':condensates,\n",
    "            'virga_mieff':virga_meiff,\n",
    "            'output_dir':output_dir\n",
    "        }\n",
    "        count += 1\n",
    "        out = out.append(dic,ignore_index=True)\n",
    "        update_progress(count,10)\n",
    "out.to_csv('GasGiantBaseModelGridCloudParams.csv', index=False)\n"
   ]
  },
  {
   "cell_type": "code",
   "execution_count": null,
   "id": "200092bd",
   "metadata": {},
   "outputs": [],
   "source": []
  }
 ],
 "metadata": {
  "kernelspec": {
   "display_name": "Python 3 (ipykernel)",
   "language": "python",
   "name": "python3"
  },
  "language_info": {
   "codemirror_mode": {
    "name": "ipython",
    "version": 3
   },
   "file_extension": ".py",
   "mimetype": "text/x-python",
   "name": "python",
   "nbconvert_exporter": "python",
   "pygments_lexer": "ipython3",
   "version": "3.9.12"
  }
 },
 "nbformat": 4,
 "nbformat_minor": 5
}
